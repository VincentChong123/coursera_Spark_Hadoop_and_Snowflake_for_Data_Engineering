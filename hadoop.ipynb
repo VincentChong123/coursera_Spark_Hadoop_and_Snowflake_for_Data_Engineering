{
 "cells": [
  {
   "cell_type": "markdown",
   "metadata": {},
   "source": []
  },
  {
   "cell_type": "markdown",
   "metadata": {},
   "source": [
    "![image.png](image.png)\n",
    "\n",
    "\n",
    "Maps are the individual tasks which transform input records into a intermediate records.\n",
    " The transformed intermediate records need not be of the same type as the input records. \n",
    " A given input pair may map to zero or many output pairs"
   ]
  },
  {
   "cell_type": "markdown",
   "metadata": {},
   "source": []
  }
 ],
 "metadata": {
  "language_info": {
   "name": "python"
  }
 },
 "nbformat": 4,
 "nbformat_minor": 2
}
