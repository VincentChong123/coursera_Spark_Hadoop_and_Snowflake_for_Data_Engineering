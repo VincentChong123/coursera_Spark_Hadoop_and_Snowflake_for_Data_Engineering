{
 "cells": [
  {
   "cell_type": "markdown",
   "metadata": {},
   "source": []
  },
  {
   "cell_type": "markdown",
   "metadata": {},
   "source": [
    "# Hadoop operation\n",
    "\n",
    "![image.png](image.png)\n",
    "\n",
    "\n",
    "Maps are the individual tasks which transform input records into a intermediate records.\n",
    " The transformed intermediate records need not be of the same type as the input records. \n",
    " A given input pair may map to zero or many output pairs"
   ]
  },
  {
   "cell_type": "markdown",
   "metadata": {},
   "source": [
    "# Spark\n",
    "\n",
    "* on top of Hadoop\n",
    "\n",
    "* Keep data in the RAM memory if possible\n",
    "\n",
    "* faster than Hadoop for iterative work\n",
    "\n",
    "* attached to cluster management system\n",
    "\n",
    "* require distributed data store"
   ]
  },
  {
   "cell_type": "markdown",
   "metadata": {},
   "source": []
  },
  {
   "cell_type": "markdown",
   "metadata": {},
   "source": [
    "# Hadoop VS Spark\n",
    "\n",
    "| Hadoop                              | Spark                                                     |\n",
    "| ----------------------------------- | --------------------------------------------------------- |\n",
    "| distributed computation and storage | distributed computation only                              |\n",
    "| Store data in disk                  | Store data in RAM memory                                  |\n",
    "| suitable for batch processing       | suitable for real time processing and versatile analytics |"
   ]
  },
  {
   "cell_type": "markdown",
   "metadata": {},
   "source": []
  }
 ],
 "metadata": {
  "language_info": {
   "name": "python"
  }
 },
 "nbformat": 4,
 "nbformat_minor": 2
}
